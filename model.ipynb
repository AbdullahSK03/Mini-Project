{
 "cells": [
  {
   "cell_type": "markdown",
   "id": "d9833870",
   "metadata": {},
   "source": [
    "# Importing dependencies"
   ]
  },
  {
   "cell_type": "code",
   "execution_count": 1,
   "id": "ca6c0a6a-b166-4621-bf50-8ae2875496f6",
   "metadata": {},
   "outputs": [],
   "source": [
    "import pandas as pd\n",
    "from sklearn.metrics.pairwise import cosine_similarity\n",
    "from sklearn.feature_extraction.text import CountVectorizer\n"
   ]
  },
  {
   "cell_type": "markdown",
   "id": "a1bd0c6e",
   "metadata": {},
   "source": [
    "# Read CSV"
   ]
  },
  {
   "cell_type": "code",
   "execution_count": 2,
   "id": "4b7d3960",
   "metadata": {},
   "outputs": [
    {
     "data": {
      "text/html": [
       "<div>\n",
       "<style scoped>\n",
       "    .dataframe tbody tr th:only-of-type {\n",
       "        vertical-align: middle;\n",
       "    }\n",
       "\n",
       "    .dataframe tbody tr th {\n",
       "        vertical-align: top;\n",
       "    }\n",
       "\n",
       "    .dataframe thead th {\n",
       "        text-align: right;\n",
       "    }\n",
       "</style>\n",
       "<table border=\"1\" class=\"dataframe\">\n",
       "  <thead>\n",
       "    <tr style=\"text-align: right;\">\n",
       "      <th></th>\n",
       "      <th>id_artists</th>\n",
       "      <th>followers</th>\n",
       "      <th>genres</th>\n",
       "      <th>name</th>\n",
       "      <th>popularity</th>\n",
       "    </tr>\n",
       "  </thead>\n",
       "  <tbody>\n",
       "    <tr>\n",
       "      <th>0</th>\n",
       "      <td>0DheY5irMjBUeLybbCUEZ2</td>\n",
       "      <td>0.0</td>\n",
       "      <td>NaN</td>\n",
       "      <td>Armid &amp; Amir Zare Pashai feat. Sara Rouzbehani</td>\n",
       "      <td>0</td>\n",
       "    </tr>\n",
       "    <tr>\n",
       "      <th>1</th>\n",
       "      <td>0DlhY15l3wsrnlfGio2bjU</td>\n",
       "      <td>5.0</td>\n",
       "      <td>NaN</td>\n",
       "      <td>ปูนา ภาวิณี</td>\n",
       "      <td>0</td>\n",
       "    </tr>\n",
       "    <tr>\n",
       "      <th>2</th>\n",
       "      <td>0DmRESX2JknGPQyO15yxg7</td>\n",
       "      <td>0.0</td>\n",
       "      <td>NaN</td>\n",
       "      <td>Sadaa</td>\n",
       "      <td>0</td>\n",
       "    </tr>\n",
       "    <tr>\n",
       "      <th>3</th>\n",
       "      <td>0DmhnbHjm1qw6NCYPeZNgJ</td>\n",
       "      <td>0.0</td>\n",
       "      <td>NaN</td>\n",
       "      <td>Tragruda</td>\n",
       "      <td>0</td>\n",
       "    </tr>\n",
       "    <tr>\n",
       "      <th>4</th>\n",
       "      <td>0Dn11fWM7vHQ3rinvWEl4E</td>\n",
       "      <td>2.0</td>\n",
       "      <td>NaN</td>\n",
       "      <td>Ioannis Panoutsopoulos</td>\n",
       "      <td>0</td>\n",
       "    </tr>\n",
       "  </tbody>\n",
       "</table>\n",
       "</div>"
      ],
      "text/plain": [
       "               id_artists  followers genres  \\\n",
       "0  0DheY5irMjBUeLybbCUEZ2        0.0    NaN   \n",
       "1  0DlhY15l3wsrnlfGio2bjU        5.0    NaN   \n",
       "2  0DmRESX2JknGPQyO15yxg7        0.0    NaN   \n",
       "3  0DmhnbHjm1qw6NCYPeZNgJ        0.0    NaN   \n",
       "4  0Dn11fWM7vHQ3rinvWEl4E        2.0    NaN   \n",
       "\n",
       "                                             name  popularity  \n",
       "0  Armid & Amir Zare Pashai feat. Sara Rouzbehani           0  \n",
       "1                                     ปูนา ภาวิณี           0  \n",
       "2                                           Sadaa           0  \n",
       "3                                        Tragruda           0  \n",
       "4                          Ioannis Panoutsopoulos           0  "
      ]
     },
     "execution_count": 2,
     "metadata": {},
     "output_type": "execute_result"
    }
   ],
   "source": [
    "artist = pd.read_csv('artists.csv')\n",
    "artist.head()"
   ]
  },
  {
   "cell_type": "code",
   "execution_count": 3,
   "id": "d0e25d9b",
   "metadata": {},
   "outputs": [
    {
     "data": {
      "text/plain": [
       "id_artists         0\n",
       "followers         11\n",
       "genres        856500\n",
       "name               3\n",
       "popularity         0\n",
       "dtype: int64"
      ]
     },
     "execution_count": 3,
     "metadata": {},
     "output_type": "execute_result"
    }
   ],
   "source": [
    "artist.isna().sum()"
   ]
  },
  {
   "cell_type": "code",
   "execution_count": 4,
   "id": "3068110b",
   "metadata": {},
   "outputs": [
    {
     "data": {
      "text/html": [
       "<div>\n",
       "<style scoped>\n",
       "    .dataframe tbody tr th:only-of-type {\n",
       "        vertical-align: middle;\n",
       "    }\n",
       "\n",
       "    .dataframe tbody tr th {\n",
       "        vertical-align: top;\n",
       "    }\n",
       "\n",
       "    .dataframe thead th {\n",
       "        text-align: right;\n",
       "    }\n",
       "</style>\n",
       "<table border=\"1\" class=\"dataframe\">\n",
       "  <thead>\n",
       "    <tr style=\"text-align: right;\">\n",
       "      <th></th>\n",
       "      <th>id</th>\n",
       "      <th>name</th>\n",
       "      <th>popularity</th>\n",
       "      <th>duration_ms</th>\n",
       "      <th>explicit</th>\n",
       "      <th>artists</th>\n",
       "      <th>id_artists</th>\n",
       "      <th>release_date</th>\n",
       "      <th>danceability</th>\n",
       "      <th>energy</th>\n",
       "      <th>key</th>\n",
       "      <th>loudness</th>\n",
       "      <th>mode</th>\n",
       "      <th>speechiness</th>\n",
       "      <th>acousticness</th>\n",
       "      <th>instrumentalness</th>\n",
       "      <th>liveness</th>\n",
       "      <th>valence</th>\n",
       "      <th>tempo</th>\n",
       "      <th>time_signature</th>\n",
       "    </tr>\n",
       "  </thead>\n",
       "  <tbody>\n",
       "    <tr>\n",
       "      <th>0</th>\n",
       "      <td>35iwgR4jXetI318WEWsa1Q</td>\n",
       "      <td>Carve</td>\n",
       "      <td>6</td>\n",
       "      <td>126903</td>\n",
       "      <td>0</td>\n",
       "      <td>Uli</td>\n",
       "      <td>45tIt06XoI0Iio4LBEVpls</td>\n",
       "      <td>1922-02-22</td>\n",
       "      <td>0.645</td>\n",
       "      <td>0.4450</td>\n",
       "      <td>0</td>\n",
       "      <td>-13.338</td>\n",
       "      <td>1</td>\n",
       "      <td>0.4510</td>\n",
       "      <td>0.674</td>\n",
       "      <td>0.7440</td>\n",
       "      <td>0.151</td>\n",
       "      <td>0.127</td>\n",
       "      <td>104.851</td>\n",
       "      <td>3</td>\n",
       "    </tr>\n",
       "    <tr>\n",
       "      <th>1</th>\n",
       "      <td>021ht4sdgPcrDgSk7JTbKY</td>\n",
       "      <td>Capítulo 2.16 - Banquero Anarquista</td>\n",
       "      <td>0</td>\n",
       "      <td>98200</td>\n",
       "      <td>0</td>\n",
       "      <td>Fernando Pessoa</td>\n",
       "      <td>14jtPCOoNZwquk5wd9DxrY</td>\n",
       "      <td>1922-06-01</td>\n",
       "      <td>0.695</td>\n",
       "      <td>0.2630</td>\n",
       "      <td>0</td>\n",
       "      <td>-22.136</td>\n",
       "      <td>1</td>\n",
       "      <td>0.9570</td>\n",
       "      <td>0.797</td>\n",
       "      <td>0.0000</td>\n",
       "      <td>0.148</td>\n",
       "      <td>0.655</td>\n",
       "      <td>102.009</td>\n",
       "      <td>1</td>\n",
       "    </tr>\n",
       "    <tr>\n",
       "      <th>2</th>\n",
       "      <td>07A5yehtSnoedViJAZkNnc</td>\n",
       "      <td>Vivo para Quererte - Remasterizado</td>\n",
       "      <td>0</td>\n",
       "      <td>181640</td>\n",
       "      <td>0</td>\n",
       "      <td>Ignacio Corsini</td>\n",
       "      <td>5LiOoJbxVSAMkBS2fUm3X2</td>\n",
       "      <td>1922-03-21</td>\n",
       "      <td>0.434</td>\n",
       "      <td>0.1770</td>\n",
       "      <td>1</td>\n",
       "      <td>-21.180</td>\n",
       "      <td>1</td>\n",
       "      <td>0.0512</td>\n",
       "      <td>0.994</td>\n",
       "      <td>0.0218</td>\n",
       "      <td>0.212</td>\n",
       "      <td>0.457</td>\n",
       "      <td>130.418</td>\n",
       "      <td>5</td>\n",
       "    </tr>\n",
       "    <tr>\n",
       "      <th>3</th>\n",
       "      <td>08FmqUhxtyLTn6pAh6bk45</td>\n",
       "      <td>El Prisionero - Remasterizado</td>\n",
       "      <td>0</td>\n",
       "      <td>176907</td>\n",
       "      <td>0</td>\n",
       "      <td>Ignacio Corsini</td>\n",
       "      <td>5LiOoJbxVSAMkBS2fUm3X2</td>\n",
       "      <td>1922-03-21</td>\n",
       "      <td>0.321</td>\n",
       "      <td>0.0946</td>\n",
       "      <td>7</td>\n",
       "      <td>-27.961</td>\n",
       "      <td>1</td>\n",
       "      <td>0.0504</td>\n",
       "      <td>0.995</td>\n",
       "      <td>0.9180</td>\n",
       "      <td>0.104</td>\n",
       "      <td>0.397</td>\n",
       "      <td>169.980</td>\n",
       "      <td>3</td>\n",
       "    </tr>\n",
       "    <tr>\n",
       "      <th>4</th>\n",
       "      <td>08y9GfoqCWfOGsKdwojr5e</td>\n",
       "      <td>Lady of the Evening</td>\n",
       "      <td>0</td>\n",
       "      <td>163080</td>\n",
       "      <td>0</td>\n",
       "      <td>Dick Haymes</td>\n",
       "      <td>3BiJGZsyX9sJchTqcSA7Su</td>\n",
       "      <td>1922</td>\n",
       "      <td>0.402</td>\n",
       "      <td>0.1580</td>\n",
       "      <td>3</td>\n",
       "      <td>-16.900</td>\n",
       "      <td>0</td>\n",
       "      <td>0.0390</td>\n",
       "      <td>0.989</td>\n",
       "      <td>0.1300</td>\n",
       "      <td>0.311</td>\n",
       "      <td>0.196</td>\n",
       "      <td>103.220</td>\n",
       "      <td>4</td>\n",
       "    </tr>\n",
       "  </tbody>\n",
       "</table>\n",
       "</div>"
      ],
      "text/plain": [
       "                       id                                 name  popularity  \\\n",
       "0  35iwgR4jXetI318WEWsa1Q                                Carve           6   \n",
       "1  021ht4sdgPcrDgSk7JTbKY  Capítulo 2.16 - Banquero Anarquista           0   \n",
       "2  07A5yehtSnoedViJAZkNnc   Vivo para Quererte - Remasterizado           0   \n",
       "3  08FmqUhxtyLTn6pAh6bk45        El Prisionero - Remasterizado           0   \n",
       "4  08y9GfoqCWfOGsKdwojr5e                  Lady of the Evening           0   \n",
       "\n",
       "   duration_ms  explicit          artists              id_artists  \\\n",
       "0       126903         0              Uli  45tIt06XoI0Iio4LBEVpls   \n",
       "1        98200         0  Fernando Pessoa  14jtPCOoNZwquk5wd9DxrY   \n",
       "2       181640         0  Ignacio Corsini  5LiOoJbxVSAMkBS2fUm3X2   \n",
       "3       176907         0  Ignacio Corsini  5LiOoJbxVSAMkBS2fUm3X2   \n",
       "4       163080         0      Dick Haymes  3BiJGZsyX9sJchTqcSA7Su   \n",
       "\n",
       "  release_date  danceability  energy  key  loudness  mode  speechiness  \\\n",
       "0   1922-02-22         0.645  0.4450    0   -13.338     1       0.4510   \n",
       "1   1922-06-01         0.695  0.2630    0   -22.136     1       0.9570   \n",
       "2   1922-03-21         0.434  0.1770    1   -21.180     1       0.0512   \n",
       "3   1922-03-21         0.321  0.0946    7   -27.961     1       0.0504   \n",
       "4         1922         0.402  0.1580    3   -16.900     0       0.0390   \n",
       "\n",
       "   acousticness  instrumentalness  liveness  valence    tempo  time_signature  \n",
       "0         0.674            0.7440     0.151    0.127  104.851               3  \n",
       "1         0.797            0.0000     0.148    0.655  102.009               1  \n",
       "2         0.994            0.0218     0.212    0.457  130.418               5  \n",
       "3         0.995            0.9180     0.104    0.397  169.980               3  \n",
       "4         0.989            0.1300     0.311    0.196  103.220               4  "
      ]
     },
     "execution_count": 4,
     "metadata": {},
     "output_type": "execute_result"
    }
   ],
   "source": [
    "songs = pd.read_csv('tracks.csv')\n",
    "songs.head()"
   ]
  },
  {
   "cell_type": "markdown",
   "id": "1edefe61",
   "metadata": {},
   "source": [
    "#### Cleaning data by removing null values"
   ]
  },
  {
   "cell_type": "code",
   "execution_count": 5,
   "id": "ff164079",
   "metadata": {},
   "outputs": [
    {
     "data": {
      "text/plain": [
       "id                   0\n",
       "name                71\n",
       "popularity           0\n",
       "duration_ms          0\n",
       "explicit             0\n",
       "artists             71\n",
       "id_artists           0\n",
       "release_date         0\n",
       "danceability         0\n",
       "energy               0\n",
       "key                  0\n",
       "loudness             0\n",
       "mode                 0\n",
       "speechiness          0\n",
       "acousticness         0\n",
       "instrumentalness     0\n",
       "liveness             0\n",
       "valence              0\n",
       "tempo                0\n",
       "time_signature       0\n",
       "dtype: int64"
      ]
     },
     "execution_count": 5,
     "metadata": {},
     "output_type": "execute_result"
    }
   ],
   "source": [
    "songs.isna().sum()"
   ]
  },
  {
   "cell_type": "code",
   "execution_count": 6,
   "id": "3170fc46",
   "metadata": {},
   "outputs": [
    {
     "data": {
      "text/plain": [
       "id_artists    0\n",
       "followers     0\n",
       "genres        0\n",
       "name          0\n",
       "popularity    0\n",
       "dtype: int64"
      ]
     },
     "execution_count": 6,
     "metadata": {},
     "output_type": "execute_result"
    }
   ],
   "source": [
    "artist.dropna(inplace=True)\n",
    "artist.isna().sum()"
   ]
  },
  {
   "cell_type": "code",
   "execution_count": 7,
   "id": "e9e179fa",
   "metadata": {},
   "outputs": [
    {
     "data": {
      "text/plain": [
       "id                  0\n",
       "name                0\n",
       "popularity          0\n",
       "duration_ms         0\n",
       "explicit            0\n",
       "artists             0\n",
       "id_artists          0\n",
       "release_date        0\n",
       "danceability        0\n",
       "energy              0\n",
       "key                 0\n",
       "loudness            0\n",
       "mode                0\n",
       "speechiness         0\n",
       "acousticness        0\n",
       "instrumentalness    0\n",
       "liveness            0\n",
       "valence             0\n",
       "tempo               0\n",
       "time_signature      0\n",
       "dtype: int64"
      ]
     },
     "execution_count": 7,
     "metadata": {},
     "output_type": "execute_result"
    }
   ],
   "source": [
    "songs.dropna(inplace=True)\n",
    "songs.isna().sum()"
   ]
  },
  {
   "cell_type": "markdown",
   "id": "cd971f13",
   "metadata": {},
   "source": [
    "##### Dropping unnecessary columns"
   ]
  },
  {
   "cell_type": "code",
   "execution_count": 8,
   "id": "a765497f",
   "metadata": {},
   "outputs": [
    {
     "data": {
      "text/html": [
       "<div>\n",
       "<style scoped>\n",
       "    .dataframe tbody tr th:only-of-type {\n",
       "        vertical-align: middle;\n",
       "    }\n",
       "\n",
       "    .dataframe tbody tr th {\n",
       "        vertical-align: top;\n",
       "    }\n",
       "\n",
       "    .dataframe thead th {\n",
       "        text-align: right;\n",
       "    }\n",
       "</style>\n",
       "<table border=\"1\" class=\"dataframe\">\n",
       "  <thead>\n",
       "    <tr style=\"text-align: right;\">\n",
       "      <th></th>\n",
       "      <th>id</th>\n",
       "      <th>name</th>\n",
       "      <th>popularity</th>\n",
       "      <th>duration_ms</th>\n",
       "      <th>explicit</th>\n",
       "      <th>artists</th>\n",
       "      <th>id_artists</th>\n",
       "    </tr>\n",
       "  </thead>\n",
       "  <tbody>\n",
       "    <tr>\n",
       "      <th>0</th>\n",
       "      <td>35iwgR4jXetI318WEWsa1Q</td>\n",
       "      <td>Carve</td>\n",
       "      <td>6</td>\n",
       "      <td>126903</td>\n",
       "      <td>0</td>\n",
       "      <td>Uli</td>\n",
       "      <td>45tIt06XoI0Iio4LBEVpls</td>\n",
       "    </tr>\n",
       "    <tr>\n",
       "      <th>1</th>\n",
       "      <td>021ht4sdgPcrDgSk7JTbKY</td>\n",
       "      <td>Capítulo 2.16 - Banquero Anarquista</td>\n",
       "      <td>0</td>\n",
       "      <td>98200</td>\n",
       "      <td>0</td>\n",
       "      <td>Fernando Pessoa</td>\n",
       "      <td>14jtPCOoNZwquk5wd9DxrY</td>\n",
       "    </tr>\n",
       "    <tr>\n",
       "      <th>2</th>\n",
       "      <td>07A5yehtSnoedViJAZkNnc</td>\n",
       "      <td>Vivo para Quererte - Remasterizado</td>\n",
       "      <td>0</td>\n",
       "      <td>181640</td>\n",
       "      <td>0</td>\n",
       "      <td>Ignacio Corsini</td>\n",
       "      <td>5LiOoJbxVSAMkBS2fUm3X2</td>\n",
       "    </tr>\n",
       "    <tr>\n",
       "      <th>3</th>\n",
       "      <td>08FmqUhxtyLTn6pAh6bk45</td>\n",
       "      <td>El Prisionero - Remasterizado</td>\n",
       "      <td>0</td>\n",
       "      <td>176907</td>\n",
       "      <td>0</td>\n",
       "      <td>Ignacio Corsini</td>\n",
       "      <td>5LiOoJbxVSAMkBS2fUm3X2</td>\n",
       "    </tr>\n",
       "    <tr>\n",
       "      <th>4</th>\n",
       "      <td>08y9GfoqCWfOGsKdwojr5e</td>\n",
       "      <td>Lady of the Evening</td>\n",
       "      <td>0</td>\n",
       "      <td>163080</td>\n",
       "      <td>0</td>\n",
       "      <td>Dick Haymes</td>\n",
       "      <td>3BiJGZsyX9sJchTqcSA7Su</td>\n",
       "    </tr>\n",
       "  </tbody>\n",
       "</table>\n",
       "</div>"
      ],
      "text/plain": [
       "                       id                                 name  popularity  \\\n",
       "0  35iwgR4jXetI318WEWsa1Q                                Carve           6   \n",
       "1  021ht4sdgPcrDgSk7JTbKY  Capítulo 2.16 - Banquero Anarquista           0   \n",
       "2  07A5yehtSnoedViJAZkNnc   Vivo para Quererte - Remasterizado           0   \n",
       "3  08FmqUhxtyLTn6pAh6bk45        El Prisionero - Remasterizado           0   \n",
       "4  08y9GfoqCWfOGsKdwojr5e                  Lady of the Evening           0   \n",
       "\n",
       "   duration_ms  explicit          artists              id_artists  \n",
       "0       126903         0              Uli  45tIt06XoI0Iio4LBEVpls  \n",
       "1        98200         0  Fernando Pessoa  14jtPCOoNZwquk5wd9DxrY  \n",
       "2       181640         0  Ignacio Corsini  5LiOoJbxVSAMkBS2fUm3X2  \n",
       "3       176907         0  Ignacio Corsini  5LiOoJbxVSAMkBS2fUm3X2  \n",
       "4       163080         0      Dick Haymes  3BiJGZsyX9sJchTqcSA7Su  "
      ]
     },
     "execution_count": 8,
     "metadata": {},
     "output_type": "execute_result"
    }
   ],
   "source": [
    "columns_to_drop = ['release_date', 'danceability', 'energy', 'key', 'loudness', 'mode', \n",
    "                   'speechiness', 'acousticness', 'instrumentalness', 'liveness', \n",
    "                   'valence', 'tempo', 'time_signature']\n",
    "\n",
    "songs = songs.drop(columns=columns_to_drop)\n",
    "\n",
    "songs.head()"
   ]
  },
  {
   "cell_type": "code",
   "execution_count": 9,
   "id": "8e94b938",
   "metadata": {},
   "outputs": [
    {
     "data": {
      "text/plain": [
       "(305589, 5)"
      ]
     },
     "execution_count": 9,
     "metadata": {},
     "output_type": "execute_result"
    }
   ],
   "source": [
    "artist.shape\n"
   ]
  },
  {
   "cell_type": "code",
   "execution_count": 10,
   "id": "8fd8d96c",
   "metadata": {},
   "outputs": [
    {
     "data": {
      "text/plain": [
       "(586601, 7)"
      ]
     },
     "execution_count": 10,
     "metadata": {},
     "output_type": "execute_result"
    }
   ],
   "source": [
    "songs.shape"
   ]
  },
  {
   "cell_type": "markdown",
   "id": "d91622c9",
   "metadata": {},
   "source": [
    "Combining the data"
   ]
  },
  {
   "cell_type": "code",
   "execution_count": 11,
   "id": "934e726e",
   "metadata": {},
   "outputs": [
    {
     "data": {
      "text/html": [
       "<div>\n",
       "<style scoped>\n",
       "    .dataframe tbody tr th:only-of-type {\n",
       "        vertical-align: middle;\n",
       "    }\n",
       "\n",
       "    .dataframe tbody tr th {\n",
       "        vertical-align: top;\n",
       "    }\n",
       "\n",
       "    .dataframe thead th {\n",
       "        text-align: right;\n",
       "    }\n",
       "</style>\n",
       "<table border=\"1\" class=\"dataframe\">\n",
       "  <thead>\n",
       "    <tr style=\"text-align: right;\">\n",
       "      <th></th>\n",
       "      <th>id_artists</th>\n",
       "      <th>followers</th>\n",
       "      <th>genres</th>\n",
       "      <th>name_x</th>\n",
       "      <th>popularity_x</th>\n",
       "      <th>id</th>\n",
       "      <th>name_y</th>\n",
       "      <th>popularity_y</th>\n",
       "      <th>duration_ms</th>\n",
       "      <th>explicit</th>\n",
       "      <th>artists</th>\n",
       "    </tr>\n",
       "  </thead>\n",
       "  <tbody>\n",
       "    <tr>\n",
       "      <th>432223</th>\n",
       "      <td>3ts767KZu2G9NuvOUdGoaE</td>\n",
       "      <td>141.0</td>\n",
       "      <td>zolo</td>\n",
       "      <td>Rascal Reporters</td>\n",
       "      <td>2</td>\n",
       "      <td>2tQ2WhLWGacmIgdc8Crx0o</td>\n",
       "      <td>For the Years 2002 and 2003 Which Were Lost to Me</td>\n",
       "      <td>0</td>\n",
       "      <td>185754</td>\n",
       "      <td>0</td>\n",
       "      <td>Rascal Reporters</td>\n",
       "    </tr>\n",
       "    <tr>\n",
       "      <th>432224</th>\n",
       "      <td>55AlphE9y02SH7btUJJfQF</td>\n",
       "      <td>6263.0</td>\n",
       "      <td>geek folk, neo-pagan</td>\n",
       "      <td>Heather Alexander</td>\n",
       "      <td>32</td>\n",
       "      <td>4VtNnhhAdqsveft3dFLrH5</td>\n",
       "      <td>March Of Cambreadth</td>\n",
       "      <td>40</td>\n",
       "      <td>287067</td>\n",
       "      <td>0</td>\n",
       "      <td>Heather Alexander</td>\n",
       "    </tr>\n",
       "    <tr>\n",
       "      <th>432225</th>\n",
       "      <td>10aXVE8RSUCeMzaFvBnZ2i</td>\n",
       "      <td>23145.0</td>\n",
       "      <td>alternative metal, industrial metal, industria...</td>\n",
       "      <td>Pitchshifter</td>\n",
       "      <td>38</td>\n",
       "      <td>4GtKwWPKlVWrhmCmOGFb51</td>\n",
       "      <td>Genius</td>\n",
       "      <td>48</td>\n",
       "      <td>246507</td>\n",
       "      <td>0</td>\n",
       "      <td>Pitchshifter</td>\n",
       "    </tr>\n",
       "    <tr>\n",
       "      <th>432226</th>\n",
       "      <td>6ok7bEDf9CZ0448D59AaNL</td>\n",
       "      <td>48046.0</td>\n",
       "      <td>pop punk, tulsa indie</td>\n",
       "      <td>Ludo</td>\n",
       "      <td>48</td>\n",
       "      <td>0YWpTcWjDsbogUMjkE1PiJ</td>\n",
       "      <td>Love Me Dead</td>\n",
       "      <td>42</td>\n",
       "      <td>260533</td>\n",
       "      <td>0</td>\n",
       "      <td>Ludo</td>\n",
       "    </tr>\n",
       "    <tr>\n",
       "      <th>432227</th>\n",
       "      <td>6ok7bEDf9CZ0448D59AaNL</td>\n",
       "      <td>48046.0</td>\n",
       "      <td>pop punk, tulsa indie</td>\n",
       "      <td>Ludo</td>\n",
       "      <td>48</td>\n",
       "      <td>3IlYkyctlcTqXAZOA4ZPzz</td>\n",
       "      <td>Love Me Dead</td>\n",
       "      <td>54</td>\n",
       "      <td>260533</td>\n",
       "      <td>0</td>\n",
       "      <td>Ludo</td>\n",
       "    </tr>\n",
       "  </tbody>\n",
       "</table>\n",
       "</div>"
      ],
      "text/plain": [
       "                    id_artists  followers  \\\n",
       "432223  3ts767KZu2G9NuvOUdGoaE      141.0   \n",
       "432224  55AlphE9y02SH7btUJJfQF     6263.0   \n",
       "432225  10aXVE8RSUCeMzaFvBnZ2i    23145.0   \n",
       "432226  6ok7bEDf9CZ0448D59AaNL    48046.0   \n",
       "432227  6ok7bEDf9CZ0448D59AaNL    48046.0   \n",
       "\n",
       "                                                   genres             name_x  \\\n",
       "432223                                               zolo   Rascal Reporters   \n",
       "432224                               geek folk, neo-pagan  Heather Alexander   \n",
       "432225  alternative metal, industrial metal, industria...       Pitchshifter   \n",
       "432226                              pop punk, tulsa indie               Ludo   \n",
       "432227                              pop punk, tulsa indie               Ludo   \n",
       "\n",
       "        popularity_x                      id  \\\n",
       "432223             2  2tQ2WhLWGacmIgdc8Crx0o   \n",
       "432224            32  4VtNnhhAdqsveft3dFLrH5   \n",
       "432225            38  4GtKwWPKlVWrhmCmOGFb51   \n",
       "432226            48  0YWpTcWjDsbogUMjkE1PiJ   \n",
       "432227            48  3IlYkyctlcTqXAZOA4ZPzz   \n",
       "\n",
       "                                                   name_y  popularity_y  \\\n",
       "432223  For the Years 2002 and 2003 Which Were Lost to Me             0   \n",
       "432224                                March Of Cambreadth            40   \n",
       "432225                                             Genius            48   \n",
       "432226                                       Love Me Dead            42   \n",
       "432227                                       Love Me Dead            54   \n",
       "\n",
       "        duration_ms  explicit            artists  \n",
       "432223       185754         0   Rascal Reporters  \n",
       "432224       287067         0  Heather Alexander  \n",
       "432225       246507         0       Pitchshifter  \n",
       "432226       260533         0               Ludo  \n",
       "432227       260533         0               Ludo  "
      ]
     },
     "execution_count": 11,
     "metadata": {},
     "output_type": "execute_result"
    }
   ],
   "source": [
    "df = pd.merge(artist, songs, left_on='id_artists', right_on='id_artists', how='inner')\n",
    "df.tail()"
   ]
  },
  {
   "cell_type": "markdown",
   "id": "8c8a2703",
   "metadata": {},
   "source": [
    "## Data Preprocessing"
   ]
  },
  {
   "cell_type": "markdown",
   "id": "eed033ed",
   "metadata": {},
   "source": [
    "#### creating new feature combining title and artist name"
   ]
  },
  {
   "cell_type": "code",
   "execution_count": 12,
   "id": "accaab8d",
   "metadata": {},
   "outputs": [
    {
     "data": {
      "text/html": [
       "<div>\n",
       "<style scoped>\n",
       "    .dataframe tbody tr th:only-of-type {\n",
       "        vertical-align: middle;\n",
       "    }\n",
       "\n",
       "    .dataframe tbody tr th {\n",
       "        vertical-align: top;\n",
       "    }\n",
       "\n",
       "    .dataframe thead th {\n",
       "        text-align: right;\n",
       "    }\n",
       "</style>\n",
       "<table border=\"1\" class=\"dataframe\">\n",
       "  <thead>\n",
       "    <tr style=\"text-align: right;\">\n",
       "      <th></th>\n",
       "      <th>id_artists</th>\n",
       "      <th>followers</th>\n",
       "      <th>genres</th>\n",
       "      <th>name_x</th>\n",
       "      <th>popularity_x</th>\n",
       "      <th>id</th>\n",
       "      <th>name_y</th>\n",
       "      <th>popularity_y</th>\n",
       "      <th>duration_ms</th>\n",
       "      <th>explicit</th>\n",
       "      <th>artists</th>\n",
       "      <th>song</th>\n",
       "    </tr>\n",
       "  </thead>\n",
       "  <tbody>\n",
       "    <tr>\n",
       "      <th>0</th>\n",
       "      <td>72578usTM6Cj5qWsi471Nc</td>\n",
       "      <td>248568.0</td>\n",
       "      <td>filmi, indian folk, indian rock, kannada pop</td>\n",
       "      <td>Raghu Dixit</td>\n",
       "      <td>52</td>\n",
       "      <td>0WzODQag2H6Ob1JPOpSYSM</td>\n",
       "      <td>Eno Ide</td>\n",
       "      <td>29</td>\n",
       "      <td>342230</td>\n",
       "      <td>0</td>\n",
       "      <td>Raghu Dixit</td>\n",
       "      <td>Raghu Dixit - Eno Ide</td>\n",
       "    </tr>\n",
       "    <tr>\n",
       "      <th>1</th>\n",
       "      <td>72578usTM6Cj5qWsi471Nc</td>\n",
       "      <td>248568.0</td>\n",
       "      <td>filmi, indian folk, indian rock, kannada pop</td>\n",
       "      <td>Raghu Dixit</td>\n",
       "      <td>52</td>\n",
       "      <td>4uqs4He9JdU4ztAQtsgmyF</td>\n",
       "      <td>Ee Tanuvu Ninnade</td>\n",
       "      <td>28</td>\n",
       "      <td>310753</td>\n",
       "      <td>0</td>\n",
       "      <td>Raghu Dixit</td>\n",
       "      <td>Raghu Dixit - Ee Tanuvu Ninnade</td>\n",
       "    </tr>\n",
       "    <tr>\n",
       "      <th>2</th>\n",
       "      <td>72578usTM6Cj5qWsi471Nc</td>\n",
       "      <td>248568.0</td>\n",
       "      <td>filmi, indian folk, indian rock, kannada pop</td>\n",
       "      <td>Raghu Dixit</td>\n",
       "      <td>52</td>\n",
       "      <td>555NYWQ1PbmLJiTW6XFwtr</td>\n",
       "      <td>Munjaane Manjalli</td>\n",
       "      <td>42</td>\n",
       "      <td>340245</td>\n",
       "      <td>0</td>\n",
       "      <td>Raghu Dixit</td>\n",
       "      <td>Raghu Dixit - Munjaane Manjalli</td>\n",
       "    </tr>\n",
       "    <tr>\n",
       "      <th>3</th>\n",
       "      <td>72578usTM6Cj5qWsi471Nc</td>\n",
       "      <td>248568.0</td>\n",
       "      <td>filmi, indian folk, indian rock, kannada pop</td>\n",
       "      <td>Raghu Dixit</td>\n",
       "      <td>52</td>\n",
       "      <td>7yhvflcXyqw1pQgCSnelZ4</td>\n",
       "      <td>Gudugudiya Sedi Nodo</td>\n",
       "      <td>38</td>\n",
       "      <td>295010</td>\n",
       "      <td>0</td>\n",
       "      <td>Raghu Dixit</td>\n",
       "      <td>Raghu Dixit - Gudugudiya Sedi Nodo</td>\n",
       "    </tr>\n",
       "    <tr>\n",
       "      <th>4</th>\n",
       "      <td>72578usTM6Cj5qWsi471Nc</td>\n",
       "      <td>248568.0</td>\n",
       "      <td>filmi, indian folk, indian rock, kannada pop</td>\n",
       "      <td>Raghu Dixit</td>\n",
       "      <td>52</td>\n",
       "      <td>6J8qcTesEfzpGhZjBa6kfV</td>\n",
       "      <td>Ambar</td>\n",
       "      <td>38</td>\n",
       "      <td>476241</td>\n",
       "      <td>0</td>\n",
       "      <td>Raghu Dixit</td>\n",
       "      <td>Raghu Dixit - Ambar</td>\n",
       "    </tr>\n",
       "  </tbody>\n",
       "</table>\n",
       "</div>"
      ],
      "text/plain": [
       "               id_artists  followers  \\\n",
       "0  72578usTM6Cj5qWsi471Nc   248568.0   \n",
       "1  72578usTM6Cj5qWsi471Nc   248568.0   \n",
       "2  72578usTM6Cj5qWsi471Nc   248568.0   \n",
       "3  72578usTM6Cj5qWsi471Nc   248568.0   \n",
       "4  72578usTM6Cj5qWsi471Nc   248568.0   \n",
       "\n",
       "                                         genres       name_x  popularity_x  \\\n",
       "0  filmi, indian folk, indian rock, kannada pop  Raghu Dixit            52   \n",
       "1  filmi, indian folk, indian rock, kannada pop  Raghu Dixit            52   \n",
       "2  filmi, indian folk, indian rock, kannada pop  Raghu Dixit            52   \n",
       "3  filmi, indian folk, indian rock, kannada pop  Raghu Dixit            52   \n",
       "4  filmi, indian folk, indian rock, kannada pop  Raghu Dixit            52   \n",
       "\n",
       "                       id                name_y  popularity_y  duration_ms  \\\n",
       "0  0WzODQag2H6Ob1JPOpSYSM               Eno Ide            29       342230   \n",
       "1  4uqs4He9JdU4ztAQtsgmyF     Ee Tanuvu Ninnade            28       310753   \n",
       "2  555NYWQ1PbmLJiTW6XFwtr     Munjaane Manjalli            42       340245   \n",
       "3  7yhvflcXyqw1pQgCSnelZ4  Gudugudiya Sedi Nodo            38       295010   \n",
       "4  6J8qcTesEfzpGhZjBa6kfV                 Ambar            38       476241   \n",
       "\n",
       "   explicit      artists                                song  \n",
       "0         0  Raghu Dixit               Raghu Dixit - Eno Ide  \n",
       "1         0  Raghu Dixit     Raghu Dixit - Ee Tanuvu Ninnade  \n",
       "2         0  Raghu Dixit     Raghu Dixit - Munjaane Manjalli  \n",
       "3         0  Raghu Dixit  Raghu Dixit - Gudugudiya Sedi Nodo  \n",
       "4         0  Raghu Dixit                 Raghu Dixit - Ambar  "
      ]
     },
     "execution_count": 12,
     "metadata": {},
     "output_type": "execute_result"
    }
   ],
   "source": [
    "df['song'] = df['name_x']+' - '+df['name_y']\n",
    "# df['song'] = df['name_y'] + '(' + df['genres'] + ')'\n",
    "df.head()"
   ]
  },
  {
   "cell_type": "code",
   "execution_count": 13,
   "id": "75afc834",
   "metadata": {},
   "outputs": [],
   "source": [
    "df.sample(250000, replace=True).to_csv('newdataset.csv')"
   ]
  },
  {
   "cell_type": "markdown",
   "id": "83855413",
   "metadata": {},
   "source": [
    "Taking random 30,000 samples"
   ]
  },
  {
   "cell_type": "code",
   "execution_count": 14,
   "id": "63c4b34e",
   "metadata": {},
   "outputs": [],
   "source": [
    "df = pd.read_csv('newdataset.csv')"
   ]
  },
  {
   "cell_type": "markdown",
   "id": "6df90190",
   "metadata": {},
   "source": [
    "Dropping duplicates"
   ]
  },
  {
   "cell_type": "code",
   "execution_count": 15,
   "id": "4061d642",
   "metadata": {},
   "outputs": [],
   "source": [
    "df.drop_duplicates(inplace=True)"
   ]
  },
  {
   "cell_type": "code",
   "execution_count": 16,
   "id": "505f1265",
   "metadata": {},
   "outputs": [],
   "source": [
    "df = df.head(30000)"
   ]
  },
  {
   "cell_type": "code",
   "execution_count": 17,
   "id": "a810ae19",
   "metadata": {},
   "outputs": [
    {
     "data": {
      "text/html": [
       "<div>\n",
       "<style scoped>\n",
       "    .dataframe tbody tr th:only-of-type {\n",
       "        vertical-align: middle;\n",
       "    }\n",
       "\n",
       "    .dataframe tbody tr th {\n",
       "        vertical-align: top;\n",
       "    }\n",
       "\n",
       "    .dataframe thead th {\n",
       "        text-align: right;\n",
       "    }\n",
       "</style>\n",
       "<table border=\"1\" class=\"dataframe\">\n",
       "  <thead>\n",
       "    <tr style=\"text-align: right;\">\n",
       "      <th></th>\n",
       "      <th>song</th>\n",
       "      <th>genres</th>\n",
       "    </tr>\n",
       "  </thead>\n",
       "  <tbody>\n",
       "    <tr>\n",
       "      <th>0</th>\n",
       "      <td>\"Weird Al\" Yankovic - Hooked On Polkas</td>\n",
       "      <td>comedy rock, comic, parody</td>\n",
       "    </tr>\n",
       "    <tr>\n",
       "      <th>1</th>\n",
       "      <td>\"Weird Al\" Yankovic - White &amp; Nerdy (Parody of...</td>\n",
       "      <td>comedy rock, comic, parody</td>\n",
       "    </tr>\n",
       "    <tr>\n",
       "      <th>2</th>\n",
       "      <td>$uicideboy$ - Carrollton</td>\n",
       "      <td>dark trap, new orleans rap, underground hip hop</td>\n",
       "    </tr>\n",
       "    <tr>\n",
       "      <th>3</th>\n",
       "      <td>$uicideboy$ - Paris</td>\n",
       "      <td>dark trap, new orleans rap, underground hip hop</td>\n",
       "    </tr>\n",
       "    <tr>\n",
       "      <th>4</th>\n",
       "      <td>(G)I-DLE - Uh-Oh</td>\n",
       "      <td>k-pop, k-pop girl group</td>\n",
       "    </tr>\n",
       "  </tbody>\n",
       "</table>\n",
       "</div>"
      ],
      "text/plain": [
       "                                                song  \\\n",
       "0             \"Weird Al\" Yankovic - Hooked On Polkas   \n",
       "1  \"Weird Al\" Yankovic - White & Nerdy (Parody of...   \n",
       "2                           $uicideboy$ - Carrollton   \n",
       "3                                $uicideboy$ - Paris   \n",
       "4                                   (G)I-DLE - Uh-Oh   \n",
       "\n",
       "                                            genres  \n",
       "0                       comedy rock, comic, parody  \n",
       "1                       comedy rock, comic, parody  \n",
       "2  dark trap, new orleans rap, underground hip hop  \n",
       "3  dark trap, new orleans rap, underground hip hop  \n",
       "4                          k-pop, k-pop girl group  "
      ]
     },
     "execution_count": 17,
     "metadata": {},
     "output_type": "execute_result"
    }
   ],
   "source": [
    "song_grouped = df.groupby(['song']).agg({'genres':'first'}).reset_index()\n",
    "song_grouped.head()"
   ]
  },
  {
   "cell_type": "markdown",
   "id": "d9568123",
   "metadata": {},
   "source": [
    "## Creating recommendation engin"
   ]
  },
  {
   "cell_type": "markdown",
   "id": "ccf4e3d3",
   "metadata": {},
   "source": [
    "Create a CountVectorizer and fit it to the combined features"
   ]
  },
  {
   "cell_type": "code",
   "execution_count": 18,
   "id": "a8bd6f75",
   "metadata": {},
   "outputs": [],
   "source": [
    "vectorizer = CountVectorizer().fit(df['song'])"
   ]
  },
  {
   "cell_type": "markdown",
   "id": "31e00efd",
   "metadata": {},
   "source": [
    "Transform the combined features into a matrix of token counts"
   ]
  },
  {
   "cell_type": "code",
   "execution_count": 19,
   "id": "93696817",
   "metadata": {},
   "outputs": [],
   "source": [
    "count_matrix = vectorizer.transform(df['song'])"
   ]
  },
  {
   "cell_type": "markdown",
   "id": "1067d751",
   "metadata": {},
   "source": [
    "Compute the cosine similarity matrix from the count matrix"
   ]
  },
  {
   "cell_type": "code",
   "execution_count": 20,
   "id": "d2ed170e",
   "metadata": {},
   "outputs": [],
   "source": [
    "cosine_sim = cosine_similarity(count_matrix)"
   ]
  },
  {
   "cell_type": "code",
   "execution_count": 21,
   "id": "984ec3b1",
   "metadata": {},
   "outputs": [
    {
     "data": {
      "text/html": [
       "<div>\n",
       "<style scoped>\n",
       "    .dataframe tbody tr th:only-of-type {\n",
       "        vertical-align: middle;\n",
       "    }\n",
       "\n",
       "    .dataframe tbody tr th {\n",
       "        vertical-align: top;\n",
       "    }\n",
       "\n",
       "    .dataframe thead th {\n",
       "        text-align: right;\n",
       "    }\n",
       "</style>\n",
       "<table border=\"1\" class=\"dataframe\">\n",
       "  <thead>\n",
       "    <tr style=\"text-align: right;\">\n",
       "      <th></th>\n",
       "      <th>Unnamed: 0</th>\n",
       "      <th>id_artists</th>\n",
       "      <th>followers</th>\n",
       "      <th>genres</th>\n",
       "      <th>name_x</th>\n",
       "      <th>popularity_x</th>\n",
       "      <th>id</th>\n",
       "      <th>name_y</th>\n",
       "      <th>popularity_y</th>\n",
       "      <th>duration_ms</th>\n",
       "      <th>explicit</th>\n",
       "      <th>artists</th>\n",
       "      <th>song</th>\n",
       "    </tr>\n",
       "  </thead>\n",
       "  <tbody>\n",
       "  </tbody>\n",
       "</table>\n",
       "</div>"
      ],
      "text/plain": [
       "Empty DataFrame\n",
       "Columns: [Unnamed: 0, id_artists, followers, genres, name_x, popularity_x, id, name_y, popularity_y, duration_ms, explicit, artists, song]\n",
       "Index: []"
      ]
     },
     "execution_count": 21,
     "metadata": {},
     "output_type": "execute_result"
    }
   ],
   "source": [
    "df[df['song'] == 'Eminem - Lose Yourself']"
   ]
  },
  {
   "cell_type": "code",
   "execution_count": 22,
   "id": "3359319e",
   "metadata": {},
   "outputs": [
    {
     "data": {
      "text/plain": [
       "array([1., 0., 0., ..., 0., 0., 0.])"
      ]
     },
     "execution_count": 22,
     "metadata": {},
     "output_type": "execute_result"
    }
   ],
   "source": [
    "cosine_sim[0]"
   ]
  },
  {
   "cell_type": "code",
   "execution_count": 23,
   "id": "43b6212d",
   "metadata": {},
   "outputs": [],
   "source": [
    "def recommend_songs(title):\n",
    "    if title not in df['song'].values:\n",
    "        return 'Song not found in the dataset'\n",
    "    idx = df[df['song'] == title].index[0]\n",
    "    sim_scores = list(enumerate(cosine_sim[idx]))\n",
    "    sim_scores = sorted(sim_scores, key=lambda x: x[1], reverse=True)\n",
    "    song_indices = [i[0] for i in sim_scores[1:21]]\n",
    "    return df['song'].iloc[song_indices]\n"
   ]
  },
  {
   "cell_type": "markdown",
   "id": "5fe120ad",
   "metadata": {},
   "source": [
    "# Printing Recommendation"
   ]
  },
  {
   "cell_type": "code",
   "execution_count": 26,
   "id": "01357424",
   "metadata": {},
   "outputs": [
    {
     "data": {
      "text/plain": [
       "6974     Mohammed Rafi - Man Re Tu Kahe Na Dheer Dhare\n",
       "2077      Mohammed Rafi - Bachpan Ke Din Bhula Na Dena\n",
       "10385    Mohammed Rafi - Na Kisi Ki Aankh Ka Noor Hoon\n",
       "27054                     Mohammed Rafi - Aye Gulbadan\n",
       "620                                 Buty - Na Na Na Na\n",
       "10731                         One Direction - Na Na Na\n",
       "21762                   Kabah - Esperanto (Na, Na, Na)\n",
       "1431          Mohammed Rafi - Kalikaal Karal Mahasagar\n",
       "26666     Mohammed Rafi - Gori Zara Hans De Tu Hans De\n",
       "422            Mohammed Rafi - Lal Chhadi Maidan Khadi\n",
       "1950           Mohammed Rafi - Aasman Se Aaya Farishta\n",
       "3228             Mohammed Rafi - Chaudhvin Ka Chand Ho\n",
       "3234             Mohammed Rafi - Dekhi Zamane Ki Yaari\n",
       "7039            Mohammed Rafi - Yahan Main Ajnabi Hoon\n",
       "7463                 Mohammed Rafi - Apni Azadi Ko Hum\n",
       "10373           Mohammed Rafi - Tumse Achchha Kaun Hai\n",
       "11219           Mohammed Rafi - Mere Mehboob Kahin Aur\n",
       "14481        Mohammed Rafi - Maine Rakkha Hai Mohabbat\n",
       "21273          Mohammed Rafi - Aasman Se Aaya Farishta\n",
       "21851       Mohammed Rafi - Raha Gardishon Mein Hardam\n",
       "Name: song, dtype: object"
      ]
     },
     "execution_count": 26,
     "metadata": {},
     "output_type": "execute_result"
    }
   ],
   "source": [
    "recommend_songs(title='Mohammed Rafi - Tu Hindu Banega Na Musalman')"
   ]
  },
  {
   "cell_type": "code",
   "execution_count": 27,
   "id": "6212c54e",
   "metadata": {},
   "outputs": [],
   "source": [
    "import pickle\n",
    "pickle.dump(cosine_sim,open('similarity.pkl','wb'))\n",
    "pickle.dump(df,open('df.pkl','wb'))"
   ]
  }
 ],
 "metadata": {
  "kernelspec": {
   "display_name": "Python 3 (ipykernel)",
   "language": "python",
   "name": "python3"
  },
  "language_info": {
   "codemirror_mode": {
    "name": "ipython",
    "version": 3
   },
   "file_extension": ".py",
   "mimetype": "text/x-python",
   "name": "python",
   "nbconvert_exporter": "python",
   "pygments_lexer": "ipython3",
   "version": "3.11.6"
  }
 },
 "nbformat": 4,
 "nbformat_minor": 5
}
